{
 "metadata": {
  "language_info": {
   "codemirror_mode": {
    "name": "ipython",
    "version": 3
   },
   "file_extension": ".py",
   "mimetype": "text/x-python",
   "name": "python",
   "nbconvert_exporter": "python",
   "pygments_lexer": "ipython3",
   "version": "3.6.5-final"
  },
  "orig_nbformat": 2,
  "kernelspec": {
   "name": "python3",
   "display_name": "Python 3.6.5 64-bit (conda)",
   "metadata": {
    "interpreter": {
     "hash": "9d3bae0a0f66551680ef8a166f6b92cc2774d5d7901f027deb7bb883ed06d5ae"
    }
   }
  }
 },
 "nbformat": 4,
 "nbformat_minor": 2,
 "cells": [
  {
   "cell_type": "code",
   "execution_count": 1,
   "metadata": {},
   "outputs": [],
   "source": [
    "from selenium import webdriver\n",
    "import random\n",
    "import time"
   ]
  },
  {
   "cell_type": "code",
   "execution_count": 2,
   "metadata": {},
   "outputs": [],
   "source": [
    "chrome_path = \"chromedriver_win32 (1)\\chromedriver.exe\"\n",
    "website_path = \"https://docs.google.com/forms/d/e/1FAIpQLSffnXO9u5Bq8Kh7dbXEerS7NF2ndZVnOz530-WdioCoKptZpw/viewform\""
   ]
  },
  {
   "cell_type": "code",
   "execution_count": 3,
   "metadata": {},
   "outputs": [],
   "source": [
    "driver = webdriver.Chrome(chrome_path)\n",
    "driver.get(website_path)"
   ]
  },
  {
   "cell_type": "code",
   "execution_count": 13,
   "metadata": {},
   "outputs": [],
   "source": [
    "\n",
    "\n",
    "#Main loop\n",
    "def main():\n",
    "    count = 0\n",
    "    while(count <= 2):\n",
    "        count = count + 1\n",
    "        buttons = driver.find_elements_by_class_name('appsMaterialWizToggleRadiogroupGroupContent')\n",
    "        submit = driver.find_element_by_class_name('quantumWizButtonPaperbuttonLabel')\n",
    "        for i in range(len(buttons)):\n",
    "            if(i >= 2):\n",
    "                driver.execute_script(\"window.scrollTo(0, window.scrollY + 200)\") \n",
    "\n",
    "            if(i < 5):\n",
    "                temp = buttons[i].find_elements_by_class_name('freebirdFormviewerComponentsQuestionRadioRadio')\n",
    "                store = [j for j in range(len(temp))]\n",
    "                if(i == 3):\n",
    "                    store = [2, 3, 4]\n",
    "            else:            \n",
    "                temp = buttons[i].find_elements_by_class_name('appsMaterialWizToggleRadiogroupRadioButtonContainer')\n",
    "                store = [j for j in range(1, len(temp) - 1)]\n",
    "            # print(len(temp))\n",
    "            \n",
    "            temp[random.choice(store)].click()\n",
    "\n",
    "        \n",
    "        submit.click()\n",
    "\n",
    "        # #Go to previous page, which will be the form\n",
    "        driver.execute_script(\"window.history.go(-1)\")\n",
    "\n",
    "        \n",
    "        print(f\"Form #{count} has been submitted!\")\n",
    "\n",
    "        time.sleep(.75)"
   ]
  },
  {
   "cell_type": "code",
   "execution_count": 14,
   "metadata": {},
   "outputs": [
    {
     "output_type": "stream",
     "name": "stdout",
     "text": [
      "Form #1 has been submitted!\n",
      "Form #2 has been submitted!\n",
      "Form #3 has been submitted!\n"
     ]
    }
   ],
   "source": [
    "if __name__ == '__main__':\n",
    "    main()"
   ]
  },
  {
   "cell_type": "code",
   "execution_count": null,
   "metadata": {},
   "outputs": [],
   "source": []
  }
 ]
}